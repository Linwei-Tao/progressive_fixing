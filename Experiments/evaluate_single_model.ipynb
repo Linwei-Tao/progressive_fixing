{
 "cells": [
  {
   "cell_type": "markdown",
   "metadata": {},
   "source": [
    "This notebook takes a trained model and evaluates it on the following metrics:\n",
    "1. ECE pre and post temperature scaling\n",
    "2. MCE pre and post temperature scaling\n",
    "3. Test error"
   ]
  },
  {
   "cell_type": "code",
   "execution_count": 1,
   "metadata": {},
   "outputs": [],
   "source": [
    "import os\n",
    "import sys\n",
    "cwd = os.getcwd()\n",
    "module_path = \"/\".join(cwd.split('/')[0:-1])\n",
    "if module_path not in sys.path:\n",
    "    sys.path.append(module_path)\n",
    "import torch\n",
    "import random\n",
    "import matplotlib.pyplot as plt\n",
    "import torch.backends.cudnn as cudnn"
   ]
  },
  {
   "cell_type": "code",
   "execution_count": 2,
   "metadata": {},
   "outputs": [],
   "source": [
    "# Import dataloaders\n",
    "import Data.cifar10 as cifar10\n",
    "import Data.cifar100 as cifar100\n",
    "import Data.tiny_imagenet as tiny_imagenet"
   ]
  },
  {
   "cell_type": "code",
   "execution_count": 3,
   "metadata": {},
   "outputs": [],
   "source": [
    "# Import network architectures\n",
    "from Net.resnet import resnet50, resnet110\n",
    "from Net.wide_resnet import wide_resnet_cifar\n",
    "from Net.densenet import densenet121\n",
    "from Net.resnet_tiny_imagenet import resnet50 as resnet50_ti"
   ]
  },
  {
   "cell_type": "code",
   "execution_count": 4,
   "metadata": {},
   "outputs": [],
   "source": [
    "# Import metrics to compute\n",
    "from Metrics.metrics import expected_calibration_error\n",
    "from Metrics.metrics import maximum_calibration_error\n",
    "from Metrics.metrics import l2_error\n",
    "from Metrics.plots import reliability_plot, bin_strength_plot\n",
    "from Metrics.metrics import test_classification_net"
   ]
  },
  {
   "cell_type": "code",
   "execution_count": 5,
   "metadata": {},
   "outputs": [],
   "source": [
    "# Dataset params\n",
    "\n",
    "dataset_num_classes = {\n",
    "    'cifar10': 10,\n",
    "    'cifar100': 100,\n",
    "    'tiny_imagenet': 200\n",
    "}\n",
    "\n",
    "dataset_loader = {\n",
    "    'cifar10': cifar10,\n",
    "    'cifar100': cifar100,\n",
    "    'tiny_imagenet': tiny_imagenet\n",
    "}"
   ]
  },
  {
   "cell_type": "code",
   "execution_count": 6,
   "metadata": {},
   "outputs": [],
   "source": [
    "# Mapping model name to model function\n",
    "models = {\n",
    "    'resnet50': resnet50,\n",
    "    'resnet50_ti': resnet50_ti,\n",
    "    'resnet110': resnet110,\n",
    "    'wide_resnet': wide_resnet_cifar,\n",
    "    'densenet121': densenet121,\n",
    "}"
   ]
  },
  {
   "cell_type": "code",
   "execution_count": 7,
   "metadata": {},
   "outputs": [],
   "source": [
    "# Checking if GPU is available\n",
    "cuda = False\n",
    "if (torch.cuda.is_available()):\n",
    "    cuda = True\n",
    "\n",
    "# Setting additional parameters\n",
    "torch.manual_seed(1)\n",
    "device = torch.device(\"cuda\" if cuda else \"cpu\")"
   ]
  },
  {
   "cell_type": "code",
   "execution_count": 8,
   "metadata": {},
   "outputs": [],
   "source": [
    "class args:\n",
    "    data_aug = True\n",
    "    gpu = device == \"cuda\"\n",
    "    train_batch_size = 128\n",
    "    test_batch_size = 128"
   ]
  },
  {
   "cell_type": "code",
   "execution_count": 9,
   "metadata": {},
   "outputs": [
    {
     "name": "stdout",
     "output_type": "stream",
     "text": [
      "Enter the dataset: \n",
      "Files already downloaded and verified\n",
      "Files already downloaded and verified\n"
     ]
    }
   ],
   "source": [
    "# Taking input for the dataset\n",
    "print ('Enter the dataset: ')\n",
    "# dataset = input()\n",
    "dataset = \"cifar10\"\n",
    "num_classes = dataset_num_classes[dataset]\n",
    "\n",
    "if (dataset == 'tiny_imagenet'):\n",
    "    print ('Enter dataset root path: ')\n",
    "    dataset_root = input()\n",
    "    train_loader = dataset_loader[dataset].get_data_loader(\n",
    "        root=dataset_root,\n",
    "        split='train',\n",
    "        batch_size=args.train_batch_size,\n",
    "        pin_memory=args.gpu)\n",
    "\n",
    "    val_loader = dataset_loader[dataset].get_data_loader(\n",
    "        root=dataset_root,\n",
    "        split='val',\n",
    "        batch_size=args.test_batch_size,\n",
    "        pin_memory=args.gpu)\n",
    "\n",
    "    test_loader = dataset_loader[dataset].get_data_loader(\n",
    "        root=dataset_root,\n",
    "        split='val',\n",
    "        batch_size=args.test_batch_size,\n",
    "        pin_memory=args.gpu)\n",
    "else:\n",
    "    train_loader, val_loader = dataset_loader[dataset].get_train_valid_loader(\n",
    "        batch_size=args.train_batch_size,\n",
    "        augment=args.data_aug,\n",
    "        random_seed=1,\n",
    "        pin_memory=args.gpu\n",
    "    )\n",
    "\n",
    "    test_loader = dataset_loader[dataset].get_test_loader(\n",
    "        batch_size=args.test_batch_size,\n",
    "        pin_memory=args.gpu\n",
    "    )"
   ]
  },
  {
   "cell_type": "code",
   "execution_count": 28,
   "metadata": {},
   "outputs": [
    {
     "name": "stdout",
     "output_type": "stream",
     "text": [
      "Enter the model: \n",
      "Enter saved model name: \n"
     ]
    }
   ],
   "source": [
    "# Taking input for the model\n",
    "print ('Enter the model: ')\n",
    "# model_name = input()\n",
    "model_name = \"resnet50\"\n",
    "print ('Enter saved model name: ')\n",
    "# saved_model_name = input()\n",
    "saved_model_name = \"/home/dylan/Desktop/progressive_fixing/weights/resnet50_cross_entropy_smoothed_smoothing_0.05_350.model\"\n",
    "\n",
    "model = models[model_name]"
   ]
  },
  {
   "cell_type": "code",
   "execution_count": 29,
   "metadata": {
    "pycharm": {
     "name": "#%%\n"
    }
   },
   "outputs": [
    {
     "name": "stdout",
     "output_type": "stream",
     "text": [
      "Enter the number of bins: \n",
      "[[962   1  11   7   0   0   1   1  15   2]\n",
      " [  2 981   0   0   0   0   0   0   2  15]\n",
      " [  9   0 918  18  11  16  19   8   1   0]\n",
      " [  7   0  13 872   9  74  11   6   2   6]\n",
      " [  2   0   9  15 957   8   2   7   0   0]\n",
      " [  0   1   5  57  10 914   2  11   0   0]\n",
      " [  5   0   5  10   3   4 970   0   0   3]\n",
      " [  4   0   2   2  12   9   0 971   0   0]\n",
      " [ 29   4   2   1   1   0   0   0 959   4]\n",
      " [  5  20   0   2   0   0   0   0   6 967]]\n",
      "Test error: 0.05289999999999995\n",
      "ECE: 0.02967964154779904\n",
      "MCE: 0.35594858919701927\n"
     ]
    },
    {
     "data": {
      "text/plain": "<Figure size 720x576 with 1 Axes>",
      "image/png": "[encoded data removed]"
     },
     "metadata": {
      "needs_background": "light"
     },
     "output_type": "display_data"
    },
    {
     "data": {
      "text/plain": "<Figure size 720x576 with 1 Axes>",
      "image/png": "[encoded data removed]"
     },
     "metadata": {
      "needs_background": "light"
     },
     "output_type": "display_data"
    }
   ],
   "source": [
    "# Evaluating the model at T = 1\n",
    "# Getting the number of bins\n",
    "print ('Enter the number of bins: ')\n",
    "# num_bins = int(input())\n",
    "num_bins = 15\n",
    "\n",
    "net = model(num_classes=num_classes, temp=1.0)\n",
    "net.cuda()\n",
    "net = torch.nn.DataParallel(net, device_ids=range(torch.cuda.device_count()))\n",
    "cudnn.benchmark = True\n",
    "net.load_state_dict(torch.load(str(saved_model_name)))\n",
    "\n",
    "conf_matrix, accuracy, labels, predictions, confidences = test_classification_net(net, test_loader, device)\n",
    "ece = expected_calibration_error(confidences, predictions, labels, num_bins=num_bins)\n",
    "mce = maximum_calibration_error(confidences, predictions, labels, num_bins=num_bins)\n",
    "\n",
    "# Printing the required evaluation metrics\n",
    "print (conf_matrix)\n",
    "print ('Test error: ' + str((1 - accuracy)))\n",
    "print ('ECE: ' + str(ece))\n",
    "print ('MCE: ' + str(mce))\n",
    "\n",
    "# Plotting the reliability plot\n",
    "reliability_plot(confidences, predictions, labels, num_bins=num_bins)\n",
    "bin_strength_plot(confidences, predictions, labels, num_bins=num_bins)"
   ]
  },
  {
   "cell_type": "code",
   "execution_count": null,
   "outputs": [],
   "source": [
    "# Evaluating the model at T = T_opt\n",
    "# Getting the number of bins\n",
    "print ('Enter the number of bins: ')\n",
    "# num_bins = int(input())\n",
    "num_bins = 15\n",
    "print ('Enter the optimal temperature: ')\n",
    "t_opt = float(input())\n",
    "\n",
    "net = model(num_classes=num_classes, temp=t_opt)\n",
    "net.cuda()\n",
    "net = torch.nn.DataParallel(net, device_ids=range(torch.cuda.device_count()))\n",
    "cudnn.benchmark = True\n",
    "net.load_state_dict(torch.load('./' + str(saved_model_name)))\n",
    "\n",
    "conf_matrix, accuracy, labels, predictions, confidences = test_classification_net(net, test_loader, device)\n",
    "ece = expected_calibration_error(confidences, predictions, labels, num_bins=num_bins)\n",
    "mce = maximum_calibration_error(confidences, predictions, labels, num_bins=num_bins)\n",
    "\n",
    "print (conf_matrix)\n",
    "print ('Test error: ' + str((1 - accuracy)))\n",
    "print ('ECE: ' + str(ece))\n",
    "print ('MCE: ' + str(mce))\n",
    "\n",
    "# Plotting the reliability plot\n",
    "reliability_plot(confidences, predictions, labels, num_bins=num_bins)\n",
    "bin_strength_plot(confidences, predictions, labels, num_bins=num_bins)"
   ],
   "metadata": {
    "collapsed": false,
    "pycharm": {
     "name": "#%%\n"
    }
   }
  }
 ],
 "metadata": {
  "kernelspec": {
   "display_name": "Python 3",
   "language": "python",
   "name": "python3"
  },
  "language_info": {
   "codemirror_mode": {
    "name": "ipython",
    "version": 3
   },
   "file_extension": ".py",
   "mimetype": "text/x-python",
   "name": "python",
   "nbconvert_exporter": "python",
   "pygments_lexer": "ipython3",
   "version": "3.7.6"
  }
 },
 "nbformat": 4,
 "nbformat_minor": 2
}