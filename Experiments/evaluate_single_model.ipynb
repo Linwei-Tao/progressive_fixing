{
 "cells": [
  {
   "cell_type": "markdown",
   "metadata": {},
   "source": [
    "This notebook takes a trained model and evaluates it on the following metrics:\n",
    "1. ECE pre and post temperature scaling\n",
    "2. MCE pre and post temperature scaling\n",
    "3. Test error"
   ]
  },
  {
   "cell_type": "code",
   "execution_count": 1,
   "metadata": {},
   "outputs": [],
   "source": [
    "import os\n",
    "import sys\n",
    "cwd = os.getcwd()\n",
    "module_path = \"/\".join(cwd.split('/')[0:-1])\n",
    "if module_path not in sys.path:\n",
    "    sys.path.append(module_path)\n",
    "import torch\n",
    "import random\n",
    "import matplotlib.pyplot as plt\n",
    "import torch.backends.cudnn as cudnn"
   ]
  },
  {
   "cell_type": "code",
   "execution_count": 2,
   "metadata": {},
   "outputs": [],
   "source": [
    "# Import dataloaders\n",
    "import Data.cifar10 as cifar10\n",
    "import Data.cifar100 as cifar100\n",
    "import Data.tiny_imagenet as tiny_imagenet"
   ]
  },
  {
   "cell_type": "code",
   "execution_count": 3,
   "metadata": {},
   "outputs": [],
   "source": [
    "# Import network architectures\n",
    "from Net.resnet import resnet50, resnet110\n",
    "from Net.wide_resnet import wide_resnet_cifar\n",
    "from Net.densenet import densenet121\n",
    "from Net.resnet_tiny_imagenet import resnet50 as resnet50_ti"
   ]
  },
  {
   "cell_type": "code",
   "execution_count": 4,
   "metadata": {},
   "outputs": [],
   "source": [
    "# Import metrics to compute\n",
    "from Metrics.metrics import expected_calibration_error\n",
    "from Metrics.metrics import maximum_calibration_error\n",
    "from Metrics.metrics import l2_error\n",
    "from Metrics.plots import reliability_plot, bin_strength_plot\n",
    "from Metrics.metrics import test_classification_net"
   ]
  },
  {
   "cell_type": "code",
   "execution_count": 5,
   "metadata": {},
   "outputs": [],
   "source": [
    "# Dataset params\n",
    "\n",
    "dataset_num_classes = {\n",
    "    'cifar10': 10,\n",
    "    'cifar100': 100,\n",
    "    'tiny_imagenet': 200\n",
    "}\n",
    "\n",
    "dataset_loader = {\n",
    "    'cifar10': cifar10,\n",
    "    'cifar100': cifar100,\n",
    "    'tiny_imagenet': tiny_imagenet\n",
    "}"
   ]
  },
  {
   "cell_type": "code",
   "execution_count": 6,
   "metadata": {},
   "outputs": [],
   "source": [
    "# Mapping model name to model function\n",
    "models = {\n",
    "    'resnet50': resnet50,\n",
    "    'resnet50_ti': resnet50_ti,\n",
    "    'resnet110': resnet110,\n",
    "    'wide_resnet': wide_resnet_cifar,\n",
    "    'densenet121': densenet121,\n",
    "}"
   ]
  },
  {
   "cell_type": "code",
   "execution_count": 7,
   "metadata": {},
   "outputs": [],
   "source": [
    "# Checking if GPU is available\n",
    "cuda = False\n",
    "if (torch.cuda.is_available()):\n",
    "    cuda = True\n",
    "\n",
    "# Setting additional parameters\n",
    "torch.manual_seed(1)\n",
    "device = torch.device(\"cuda\" if cuda else \"cpu\")"
   ]
  },
  {
   "cell_type": "code",
   "execution_count": 8,
   "metadata": {},
   "outputs": [],
   "source": [
    "class args:\n",
    "    data_aug = True\n",
    "    gpu = device == \"cuda\"\n",
    "    train_batch_size = 128\n",
    "    test_batch_size = 128"
   ]
  },
  {
   "cell_type": "code",
   "execution_count": 11,
   "metadata": {},
   "outputs": [
    {
     "name": "stderr",
     "output_type": "stream",
     "text": [
      "7.8%IOPub message rate exceeded.\n",
      "The notebook server will temporarily stop sending output\n",
      "to the client in order to avoid crashing it.\n",
      "To change this limit, set the config variable\n",
      "`--NotebookApp.iopub_msg_rate_limit`.\n",
      "\n",
      "Current values:\n",
      "NotebookApp.iopub_msg_rate_limit=1000.0 (msgs/sec)\n",
      "NotebookApp.rate_limit_window=3.0 (secs)\n",
      "\n",
      "13.7%IOPub message rate exceeded.\n",
      "The notebook server will temporarily stop sending output\n",
      "to the client in order to avoid crashing it.\n",
      "To change this limit, set the config variable\n",
      "`--NotebookApp.iopub_msg_rate_limit`.\n",
      "\n",
      "Current values:\n",
      "NotebookApp.iopub_msg_rate_limit=1000.0 (msgs/sec)\n",
      "NotebookApp.rate_limit_window=3.0 (secs)\n",
      "\n",
      "21.7%IOPub message rate exceeded.\n",
      "The notebook server will temporarily stop sending output\n",
      "to the client in order to avoid crashing it.\n",
      "To change this limit, set the config variable\n",
      "`--NotebookApp.iopub_msg_rate_limit`.\n",
      "\n",
      "Current values:\n",
      "NotebookApp.iopub_msg_rate_limit=1000.0 (msgs/sec)\n",
      "NotebookApp.rate_limit_window=3.0 (secs)\n",
      "\n",
      "27.8%IOPub message rate exceeded.\n",
      "The notebook server will temporarily stop sending output\n",
      "to the client in order to avoid crashing it.\n",
      "To change this limit, set the config variable\n",
      "`--NotebookApp.iopub_msg_rate_limit`.\n",
      "\n",
      "Current values:\n",
      "NotebookApp.iopub_msg_rate_limit=1000.0 (msgs/sec)\n",
      "NotebookApp.rate_limit_window=3.0 (secs)\n",
      "\n",
      "34.1%IOPub message rate exceeded.\n",
      "The notebook server will temporarily stop sending output\n",
      "to the client in order to avoid crashing it.\n",
      "To change this limit, set the config variable\n",
      "`--NotebookApp.iopub_msg_rate_limit`.\n",
      "\n",
      "Current values:\n",
      "NotebookApp.iopub_msg_rate_limit=1000.0 (msgs/sec)\n",
      "NotebookApp.rate_limit_window=3.0 (secs)\n",
      "\n",
      "40.3%IOPub message rate exceeded.\n",
      "The notebook server will temporarily stop sending output\n",
      "to the client in order to avoid crashing it.\n",
      "To change this limit, set the config variable\n",
      "`--NotebookApp.iopub_msg_rate_limit`.\n",
      "\n",
      "Current values:\n",
      "NotebookApp.iopub_msg_rate_limit=1000.0 (msgs/sec)\n",
      "NotebookApp.rate_limit_window=3.0 (secs)\n",
      "\n",
      "46.4%IOPub message rate exceeded.\n",
      "The notebook server will temporarily stop sending output\n",
      "to the client in order to avoid crashing it.\n",
      "To change this limit, set the config variable\n",
      "`--NotebookApp.iopub_msg_rate_limit`.\n",
      "\n",
      "Current values:\n",
      "NotebookApp.iopub_msg_rate_limit=1000.0 (msgs/sec)\n",
      "NotebookApp.rate_limit_window=3.0 (secs)\n",
      "\n",
      "55.2%IOPub message rate exceeded.\n",
      "The notebook server will temporarily stop sending output\n",
      "to the client in order to avoid crashing it.\n",
      "To change this limit, set the config variable\n",
      "`--NotebookApp.iopub_msg_rate_limit`.\n",
      "\n",
      "Current values:\n",
      "NotebookApp.iopub_msg_rate_limit=1000.0 (msgs/sec)\n",
      "NotebookApp.rate_limit_window=3.0 (secs)\n",
      "\n",
      "63.4%IOPub message rate exceeded.\n",
      "The notebook server will temporarily stop sending output\n",
      "to the client in order to avoid crashing it.\n",
      "To change this limit, set the config variable\n",
      "`--NotebookApp.iopub_msg_rate_limit`.\n",
      "\n",
      "Current values:\n",
      "NotebookApp.iopub_msg_rate_limit=1000.0 (msgs/sec)\n",
      "NotebookApp.rate_limit_window=3.0 (secs)\n",
      "\n",
      "71.5%IOPub message rate exceeded.\n",
      "The notebook server will temporarily stop sending output\n",
      "to the client in order to avoid crashing it.\n",
      "To change this limit, set the config variable\n",
      "`--NotebookApp.iopub_msg_rate_limit`.\n",
      "\n",
      "Current values:\n",
      "NotebookApp.iopub_msg_rate_limit=1000.0 (msgs/sec)\n",
      "NotebookApp.rate_limit_window=3.0 (secs)\n",
      "\n",
      "79.7%IOPub message rate exceeded.\n",
      "The notebook server will temporarily stop sending output\n",
      "to the client in order to avoid crashing it.\n",
      "To change this limit, set the config variable\n",
      "`--NotebookApp.iopub_msg_rate_limit`.\n",
      "\n",
      "Current values:\n",
      "NotebookApp.iopub_msg_rate_limit=1000.0 (msgs/sec)\n",
      "NotebookApp.rate_limit_window=3.0 (secs)\n",
      "\n",
      "88.0%IOPub message rate exceeded.\n",
      "The notebook server will temporarily stop sending output\n",
      "to the client in order to avoid crashing it.\n",
      "To change this limit, set the config variable\n",
      "`--NotebookApp.iopub_msg_rate_limit`.\n",
      "\n",
      "Current values:\n",
      "NotebookApp.iopub_msg_rate_limit=1000.0 (msgs/sec)\n",
      "NotebookApp.rate_limit_window=3.0 (secs)\n",
      "\n",
      "96.2%IOPub message rate exceeded.\n",
      "The notebook server will temporarily stop sending output\n",
      "to the client in order to avoid crashing it.\n",
      "To change this limit, set the config variable\n",
      "`--NotebookApp.iopub_msg_rate_limit`.\n",
      "\n",
      "Current values:\n",
      "NotebookApp.iopub_msg_rate_limit=1000.0 (msgs/sec)\n",
      "NotebookApp.rate_limit_window=3.0 (secs)\n",
      "\n"
     ]
    },
    {
     "name": "stdout",
     "output_type": "stream",
     "text": [
      "Enter the dataset: \n",
      "Files already downloaded and verified\n",
      "Files already downloaded and verified\n"
     ]
    }
   ],
   "source": [
    "# Taking input for the dataset\n",
    "print ('Enter the dataset: ')\n",
    "# dataset = input()\n",
    "dataset = \"cifar10\"\n",
    "num_classes = dataset_num_classes[dataset]\n",
    "\n",
    "if (dataset == 'tiny_imagenet'):\n",
    "    print ('Enter dataset root path: ')\n",
    "    dataset_root = input()\n",
    "    train_loader = dataset_loader[dataset].get_data_loader(\n",
    "        root=dataset_root,\n",
    "        split='train',\n",
    "        batch_size=args.train_batch_size,\n",
    "        pin_memory=args.gpu)\n",
    "\n",
    "    val_loader = dataset_loader[dataset].get_data_loader(\n",
    "        root=dataset_root,\n",
    "        split='val',\n",
    "        batch_size=args.test_batch_size,\n",
    "        pin_memory=args.gpu)\n",
    "\n",
    "    test_loader = dataset_loader[dataset].get_data_loader(\n",
    "        root=dataset_root,\n",
    "        split='val',\n",
    "        batch_size=args.test_batch_size,\n",
    "        pin_memory=args.gpu)\n",
    "else:\n",
    "    train_loader, val_loader = dataset_loader[dataset].get_train_valid_loader(\n",
    "        batch_size=args.train_batch_size,\n",
    "        augment=args.data_aug,\n",
    "        random_seed=1,\n",
    "        pin_memory=args.gpu\n",
    "    )\n",
    "\n",
    "    test_loader = dataset_loader[dataset].get_test_loader(\n",
    "        batch_size=args.test_batch_size,\n",
    "        pin_memory=args.gpu\n",
    "    )"
   ]
  },
  {
   "cell_type": "code",
   "execution_count": 14,
   "metadata": {},
   "outputs": [
    {
     "name": "stdout",
     "output_type": "stream",
     "text": [
      "Enter the model: \n",
      "Enter saved model name: \n"
     ]
    }
   ],
   "source": [
    "# Taking input for the model\n",
    "print ('Enter the model: ')\n",
    "# model_name = input()\n",
    "model_name = \"resnet50\"\n",
    "print ('Enter saved model name: ')\n",
    "# saved_model_name = input()\n",
    "saved_model_name = \"/home/dylan/Desktop/progressive_fixing/run/resnet50_cifar10_cross_entropy_PF=19_220117002345/cross_entropy_350.pt\"\n",
    "\n",
    "model = models[model_name]"
   ]
  },
  {
   "cell_type": "code",
   "execution_count": 17,
   "metadata": {},
   "outputs": [
    {
     "name": "stdout",
     "output_type": "stream",
     "text": [
      "Enter the number of bins: \n",
      "[[1000    0    0    0    0    0    0    0    0    0]\n",
      " [1000    0    0    0    0    0    0    0    0    0]\n",
      " [1000    0    0    0    0    0    0    0    0    0]\n",
      " [1000    0    0    0    0    0    0    0    0    0]\n",
      " [1000    0    0    0    0    0    0    0    0    0]\n",
      " [1000    0    0    0    0    0    0    0    0    0]\n",
      " [1000    0    0    0    0    0    0    0    0    0]\n",
      " [1000    0    0    0    0    0    0    0    0    0]\n",
      " [1000    0    0    0    0    0    0    0    0    0]\n",
      " [1000    0    0    0    0    0    0    0    0    0]]\n",
      "Test error: 0.9\n",
      "ECE: 1.4901161138336505e-09\n",
      "MCE: 1.4901161138336505e-09\n"
     ]
    },
    {
     "data": {
      "text/plain": "<Figure size 720x576 with 1 Axes>",
      "image/png": "[encoded data removed]"
     },
     "metadata": {
      "needs_background": "light"
     },
     "output_type": "display_data"
    },
    {
     "data": {
      "text/plain": "<Figure size 720x576 with 1 Axes>",
      "image/png": "[encoded data removed]"
     },
     "metadata": {
      "needs_background": "light"
     },
     "output_type": "display_data"
    }
   ],
   "source": [
    "# Evaluating the model at T = 1\n",
    "# Getting the number of bins\n",
    "print ('Enter the number of bins: ')\n",
    "# num_bins = int(input())\n",
    "num_bins = 15\n",
    "\n",
    "net = model(num_classes=num_classes, temp=1.0)\n",
    "net.cuda()\n",
    "# net = torch.nn.DataParallel(net, device_ids=range(torch.cuda.device_count()))\n",
    "cudnn.benchmark = True\n",
    "net.load_state_dict(torch.load(str(saved_model_name)))\n",
    "\n",
    "conf_matrix, accuracy, labels, predictions, confidences = test_classification_net(net, test_loader, device)\n",
    "ece = expected_calibration_error(confidences, predictions, labels, num_bins=num_bins)\n",
    "mce = maximum_calibration_error(confidences, predictions, labels, num_bins=num_bins)\n",
    "\n",
    "# Printing the required evaluation metrics\n",
    "print (conf_matrix)\n",
    "print ('Test error: ' + str((1 - accuracy)))\n",
    "print ('ECE: ' + str(ece))\n",
    "print ('MCE: ' + str(mce))\n",
    "\n",
    "# Plotting the reliability plot\n",
    "reliability_plot(confidences, predictions, labels, num_bins=num_bins)\n",
    "bin_strength_plot(confidences, predictions, labels, num_bins=num_bins)"
   ]
  },
  {
   "cell_type": "code",
   "execution_count": 20,
   "metadata": {},
   "outputs": [
    {
     "name": "stdout",
     "output_type": "stream",
     "text": [
      "Enter the number of bins: \n",
      "15\n",
      "Enter the optimal temperature: \n",
      "2.5\n",
      "[[964   2   9   4   3   0   0   0  12   6]\n",
      " [  0 980   0   0   0   0   0   0   1  19]\n",
      " [  7   1 935  12  14  16  10   1   3   1]\n",
      " [  8   1  13 885  15  60   8   3   4   3]\n",
      " [  2   0   6  13 965   7   2   5   0   0]\n",
      " [  2   1   5  51  12 918   2   9   0   0]\n",
      " [  4   1   8   9   8   4 963   0   0   3]\n",
      " [  6   0   5   6  13  12   0 956   2   0]\n",
      " [ 16   3   3   1   1   0   0   0 971   5]\n",
      " [  4  20   0   2   0   0   0   0   6 968]]\n",
      "Test error: 0.04949999999999999\n",
      "ECE: 0.013544935575127552\n",
      "MCE: 0.20599711142229227\n"
     ]
    },
    {
     "data": {
      "image/png": "[encoded data removed]",
      "text/plain": [
       "<Figure size 720x576 with 1 Axes>"
      ]
     },
     "metadata": {
      "needs_background": "light"
     },
     "output_type": "display_data"
    },
    {
     "data": {
      "image/png": "[encoded data removed]",
      "text/plain": [
       "<Figure size 720x576 with 1 Axes>"
      ]
     },
     "metadata": {
      "needs_background": "light"
     },
     "output_type": "display_data"
    }
   ],
   "source": [
    "# Evaluating the model at T = T_opt\n",
    "# Getting the number of bins\n",
    "print ('Enter the number of bins: ')\n",
    "num_bins = int(input())\n",
    "print ('Enter the optimal temperature: ')\n",
    "t_opt = float(input())\n",
    "\n",
    "net = model(num_classes=num_classes, temp=t_opt)\n",
    "net.cuda()\n",
    "net = torch.nn.DataParallel(net, device_ids=range(torch.cuda.device_count()))\n",
    "cudnn.benchmark = True\n",
    "net.load_state_dict(torch.load('./' + str(saved_model_name)))\n",
    "\n",
    "conf_matrix, accuracy, labels, predictions, confidences = test_classification_net(net, test_loader, device)\n",
    "ece = expected_calibration_error(confidences, predictions, labels, num_bins=num_bins)\n",
    "mce = maximum_calibration_error(confidences, predictions, labels, num_bins=num_bins)\n",
    "\n",
    "print (conf_matrix)\n",
    "print ('Test error: ' + str((1 - accuracy)))\n",
    "print ('ECE: ' + str(ece))\n",
    "print ('MCE: ' + str(mce))\n",
    "\n",
    "# Plotting the reliability plot\n",
    "reliability_plot(confidences, predictions, labels, num_bins=num_bins)\n",
    "bin_strength_plot(confidences, predictions, labels, num_bins=num_bins)"
   ]
  }
 ],
 "metadata": {
  "kernelspec": {
   "display_name": "Python 3",
   "language": "python",
   "name": "python3"
  },
  "language_info": {
   "codemirror_mode": {
    "name": "ipython",
    "version": 3
   },
   "file_extension": ".py",
   "mimetype": "text/x-python",
   "name": "python",
   "nbconvert_exporter": "python",
   "pygments_lexer": "ipython3",
   "version": "3.7.6"
  }
 },
 "nbformat": 4,
 "nbformat_minor": 2
}